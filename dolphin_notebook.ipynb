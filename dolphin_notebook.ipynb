{
 "cells": [
  {
   "cell_type": "code",
   "execution_count": 18,
   "id": "9fe1c4ad",
   "metadata": {},
   "outputs": [],
   "source": [
    "from collections import defaultdict\n",
    "import numpy as np\n",
    "import matplotlib.pyplot as plt\n",
    "from lib.partition import split_by_day\n",
    "import lib.file_utilities as util\n",
    "import os\n"
   ]
  },
  {
   "cell_type": "code",
   "execution_count": 25,
   "id": "c83e76e2",
   "metadata": {},
   "outputs": [],
   "source": [
    "def dolphin_classifier(data_directory):\n",
    "    \"\"\"\n",
    "    Neural net classification of dolphin echolocation clicks to species\n",
    "    :param data_directory:  root directory of data\n",
    "    :return:  None\n",
    "    \"\"\"\n",
    "\n",
    "    plt.ion()   # enable interactive plotting\n",
    "\n",
    "\n",
    "    #use_onlyN = np.Inf  # use this to get all files\n",
    "    use_onlyN = 20\n",
    "    bruh = util.get_files(data_directory, \".czcc\", use_onlyN)\n",
    "    print(bruh)\n",
    "\n",
    "    #raise NotImplementedError    "
   ]
  },
  {
   "cell_type": "code",
   "execution_count": 26,
   "id": "f321d9d4",
   "metadata": {},
   "outputs": [],
   "source": [
    "def driver():\n",
    "    data_directory = os.path.abspath(\"./features\")\n",
    "    dolphin_classifier(data_directory)"
   ]
  },
  {
   "cell_type": "code",
   "execution_count": 27,
   "id": "22bba539",
   "metadata": {},
   "outputs": [
    {
     "name": "stdout",
     "output_type": "stream",
     "text": [
      "['/Users/erick/PycharmProjects/DolphinIdentification/features/Gg/SOCAL08A_sitA_061217_103615.czcc', '/Users/erick/PycharmProjects/DolphinIdentification/features/Gg/SOCAL32E_sitE_090420_062730.czcc', '/Users/erick/PycharmProjects/DolphinIdentification/features/Gg/SOCAL08A_sitA_061220_015230.czcc', '/Users/erick/PycharmProjects/DolphinIdentification/features/Gg/SOCAL19G_sitG_071125_041000.czcc', '/Users/erick/PycharmProjects/DolphinIdentification/features/Gg/SCAL31G2_stG2_090125_115500.czcc', '/Users/erick/PycharmProjects/DolphinIdentification/features/Gg/SOCAL15A_sitA_070812_165845.czcc', '/Users/erick/PycharmProjects/DolphinIdentification/features/Gg/SOCAL15A_sitA_070812_162115.czcc', '/Users/erick/PycharmProjects/DolphinIdentification/features/Gg/SOCAL08A_sitA_061212_041230.czcc', '/Users/erick/PycharmProjects/DolphinIdentification/features/Gg/SOCAL04A_sitA_060820_030230.czcc', '/Users/erick/PycharmProjects/DolphinIdentification/features/Gg/SOCAL19A_sitA_071102_224730.czcc', '/Users/erick/PycharmProjects/DolphinIdentification/features/Gg/SOCAL05A_sitA_061016_054615.czcc', '/Users/erick/PycharmProjects/DolphinIdentification/features/Gg/SOCAL32E_sitE_090420_070500.czcc', '/Users/erick/PycharmProjects/DolphinIdentification/features/Gg/SCAL31G2_stG2_090223_032845.czcc', '/Users/erick/PycharmProjects/DolphinIdentification/features/Gg/SOCAL04A_sitA_060815_043730.czcc', '/Users/erick/PycharmProjects/DolphinIdentification/features/Gg/SOCAL05A_sitA_061017_114615.czcc', '/Users/erick/PycharmProjects/DolphinIdentification/features/Gg/SOCAL04A_sitA_060817_122345.czcc', '/Users/erick/PycharmProjects/DolphinIdentification/features/Gg/SOCAL08A_sitA_061220_011500.czcc', '/Users/erick/PycharmProjects/DolphinIdentification/features/Gg/SOCAL19A_sitA_071030_024615.czcc', '/Users/erick/PycharmProjects/DolphinIdentification/features/Gg/SCAL31G2_stG2_090223_132845.czcc', '/Users/erick/PycharmProjects/DolphinIdentification/features/Gg/SCAL31G2_stG2_090223_125115.czcc', '/Users/erick/PycharmProjects/DolphinIdentification/features/Lo/A/SOCAL19G_sitG_071202_035730.czcc', '/Users/erick/PycharmProjects/DolphinIdentification/features/Lo/B/SOCAL10G_sitG_070120_174230.czcc']\n"
     ]
    }
   ],
   "source": [
    "driver()"
   ]
  },
  {
   "cell_type": "code",
   "execution_count": null,
   "id": "b6c97c65",
   "metadata": {},
   "outputs": [],
   "source": []
  }
 ],
 "metadata": {
  "kernelspec": {
   "display_name": "Python 3 (ipykernel)",
   "language": "python",
   "name": "python3"
  },
  "language_info": {
   "codemirror_mode": {
    "name": "ipython",
    "version": 3
   },
   "file_extension": ".py",
   "mimetype": "text/x-python",
   "name": "python",
   "nbconvert_exporter": "python",
   "pygments_lexer": "ipython3",
   "version": "3.9.7"
  }
 },
 "nbformat": 4,
 "nbformat_minor": 5
}
